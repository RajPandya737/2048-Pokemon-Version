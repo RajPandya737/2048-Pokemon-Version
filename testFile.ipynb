{
  "nbformat": 4,
  "nbformat_minor": 0,
  "metadata": {
    "colab": {
      "provenance": [],
      "include_colab_link": true
    },
    "kernelspec": {
      "name": "python3",
      "display_name": "Python 3"
    },
    "language_info": {
      "name": "python"
    }
  },
  "cells": [
    {
      "cell_type": "markdown",
      "metadata": {
        "id": "view-in-github",
        "colab_type": "text"
      },
      "source": [
        "<a href=\"https://colab.research.google.com/github/RajPandya737/2048-Pokemon-Version/blob/master/testFile.ipynb\" target=\"_parent\"><img src=\"https://colab.research.google.com/assets/colab-badge.svg\" alt=\"Open In Colab\"/></a>"
      ]
    },
    {
      "cell_type": "code",
      "source": [
        "import pandas as pd"
      ],
      "metadata": {
        "id": "vgsveaVtF8Go"
      },
      "execution_count": null,
      "outputs": []
    },
    {
      "cell_type": "code",
      "execution_count": null,
      "metadata": {
        "colab": {
          "base_uri": "https://localhost:8080/"
        },
        "id": "nMtV_00WFDhR",
        "outputId": "c2114194-16e4-46ce-c37f-92c3472b91de"
      },
      "outputs": [
        {
          "output_type": "stream",
          "name": "stdout",
          "text": [
            "         date  int\n",
            "0  2023-02-12    0\n",
            "1  2023-02-13    1\n",
            "2  2023-02-14    2\n",
            "3  2023-02-15    3\n",
            "4  2023-02-16    4\n",
            "5  2023-02-17    5\n",
            "6  2023-02-18    6\n",
            "7  2023-02-19    7\n",
            "8  2023-02-20    8\n",
            "9  2023-02-21    9\n",
            "10 2023-02-22   10\n",
            "11 2023-02-23   11\n",
            "12 2023-02-24   12\n"
          ]
        }
      ],
      "source": [
        "dates = pd.date_range('2023-02-12', periods=13, freq='D')\n",
        "\n",
        "numbers = [i for i in range(len(dates))]\n",
        "\n",
        "df = pd.DataFrame({'date': dates, 'int': numbers})\n",
        "\n",
        "print(df)\n",
        "\n",
        "//testing push data - raj"
      ]
    },
    {
      "cell_type": "code",
      "source": [],
      "metadata": {
        "id": "dWcg2YaIFE1r"
      },
      "execution_count": null,
      "outputs": []
    }
  ]
}